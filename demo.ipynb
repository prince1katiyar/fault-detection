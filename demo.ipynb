{
 "cells": [
  {
   "cell_type": "code",
   "execution_count": 35,
   "metadata": {},
   "outputs": [],
   "source": [
    "from sensor.utils.main_utils import read_yaml_file"
   ]
  },
  {
   "cell_type": "code",
   "execution_count": 36,
   "metadata": {},
   "outputs": [
    {
     "name": "stdout",
     "output_type": "stream",
     "text": [
      "Requirement already satisfied: dill in ./venv/lib/python3.8/site-packages (0.3.8)\n",
      "Note: you may need to restart the kernel to use updated packages.\n"
     ]
    }
   ],
   "source": [
    "pip install dill"
   ]
  },
  {
   "cell_type": "code",
   "execution_count": 37,
   "metadata": {},
   "outputs": [
    {
     "name": "stdout",
     "output_type": "stream",
     "text": [
      "Requirement already satisfied: PyYAML in ./venv/lib/python3.8/site-packages (6.0.1)\n",
      "Note: you may need to restart the kernel to use updated packages.\n"
     ]
    }
   ],
   "source": [
    "pip install PyYAML"
   ]
  },
  {
   "cell_type": "code",
   "execution_count": 38,
   "metadata": {},
   "outputs": [],
   "source": [
    "file_path=\"/Users/myhome/Downloads/mysensor/config/schema.yaml\""
   ]
  },
  {
   "cell_type": "code",
   "execution_count": 39,
   "metadata": {},
   "outputs": [],
   "source": [
    "schema_config = read_yaml_file(file_path=file_path)"
   ]
  },
  {
   "cell_type": "code",
   "execution_count": 40,
   "metadata": {},
   "outputs": [
    {
     "data": {
      "text/plain": [
       "164"
      ]
     },
     "execution_count": 40,
     "metadata": {},
     "output_type": "execute_result"
    }
   ],
   "source": [
    "len(schema_config[\"columns\"])"
   ]
  },
  {
   "cell_type": "code",
   "execution_count": 44,
   "metadata": {},
   "outputs": [],
   "source": [
    "from sensor.components.data_validation import DataValidation \n",
    "from sensor.entity.config_entity import TrainingPipelineConfig,DataIngestionConfig,DataValidationConfig\n",
    "from sensor.entity.artifact_entity import DataIngestionArtifact, DataValidationArtifact\n"
   ]
  },
  {
   "cell_type": "code",
   "execution_count": 45,
   "metadata": {},
   "outputs": [
    {
     "ename": "TypeError",
     "evalue": "__init__() missing 1 required positional argument: 'data_ingestion_config'",
     "output_type": "error",
     "traceback": [
      "\u001b[0;31m---------------------------------------------------------------------------\u001b[0m",
      "\u001b[0;31mTypeError\u001b[0m                                 Traceback (most recent call last)",
      "Cell \u001b[0;32mIn[45], line 4\u001b[0m\n\u001b[1;32m      1\u001b[0m \u001b[38;5;28;01mfrom\u001b[39;00m \u001b[38;5;21;01msensor\u001b[39;00m\u001b[38;5;21;01m.\u001b[39;00m\u001b[38;5;21;01mcomponents\u001b[39;00m\u001b[38;5;21;01m.\u001b[39;00m\u001b[38;5;21;01mdata_ingestion\u001b[39;00m \u001b[38;5;28;01mimport\u001b[39;00m DataIngestion\n\u001b[1;32m      3\u001b[0m \u001b[38;5;66;03m# Create an instance of DataIngestion\u001b[39;00m\n\u001b[0;32m----> 4\u001b[0m data_validation_instance \u001b[38;5;241m=\u001b[39m \u001b[43mDataIngestion\u001b[49m\u001b[43m(\u001b[49m\u001b[43m)\u001b[49m\n\u001b[1;32m      6\u001b[0m \u001b[38;5;66;03m# Call the initiate_data_validation method\u001b[39;00m\n\u001b[1;32m      7\u001b[0m data_validation_artifact \u001b[38;5;241m=\u001b[39m data_validation_instance\u001b[38;5;241m.\u001b[39minitiate_data_validation()\n",
      "\u001b[0;31mTypeError\u001b[0m: __init__() missing 1 required positional argument: 'data_ingestion_config'"
     ]
    }
   ],
   "source": [
    "from sensor.components.data_ingestion import DataIngestion\n",
    "\n",
    "# Create an instance of DataIngestion\n",
    "data_validation_instance = DataIngestion()\n",
    "\n",
    "# Call the initiate_data_validation method\n",
    "data_validation_artifact = data_validation_instance.initiate_data_validation()\n",
    "\n",
    "# Access the train_dataframe from the DataValidationArtifact\n",
    "train_dataframe = data_validation_artifact.train_dataframe\n",
    "\n",
    "# Now you can use train_dataframe in your IPython notebook\n",
    "print(train_dataframe.head())\n"
   ]
  },
  {
   "cell_type": "code",
   "execution_count": 33,
   "metadata": {},
   "outputs": [
    {
     "ename": "NameError",
     "evalue": "name 'schema_config' is not defined",
     "output_type": "error",
     "traceback": [
      "\u001b[0;31m---------------------------------------------------------------------------\u001b[0m",
      "\u001b[0;31mNameError\u001b[0m                                 Traceback (most recent call last)",
      "Cell \u001b[0;32mIn[33], line 1\u001b[0m\n\u001b[0;32m----> 1\u001b[0m \u001b[38;5;28mlen\u001b[39m(\u001b[43mschema_config\u001b[49m[\u001b[38;5;124m\"\u001b[39m\u001b[38;5;124mcolumns\u001b[39m\u001b[38;5;124m\"\u001b[39m])\u001b[38;5;241m==\u001b[39m\u001b[38;5;28mlen\u001b[39m(traing_file_path\u001b[38;5;241m.\u001b[39mcolumns)\n",
      "\u001b[0;31mNameError\u001b[0m: name 'schema_config' is not defined"
     ]
    }
   ],
   "source": [
    "\n",
    "len(schema_config[\"columns\"])==len(train_dataframe.columns)"
   ]
  },
  {
   "cell_type": "code",
   "execution_count": 46,
   "metadata": {},
   "outputs": [],
   "source": [
    "from scipy.stats import ks_2samp"
   ]
  },
  {
   "cell_type": "code",
   "execution_count": 47,
   "metadata": {},
   "outputs": [],
   "source": [
    "import numpy as np"
   ]
  },
  {
   "cell_type": "code",
   "execution_count": 48,
   "metadata": {},
   "outputs": [],
   "source": [
    "d1 = np.arange(10)\n",
    "d2 = np.arange(10)"
   ]
  },
  {
   "cell_type": "code",
   "execution_count": null,
   "metadata": {},
   "outputs": [],
   "source": []
  },
  {
   "cell_type": "code",
   "execution_count": null,
   "metadata": {},
   "outputs": [],
   "source": []
  },
  {
   "cell_type": "code",
   "execution_count": null,
   "metadata": {},
   "outputs": [],
   "source": []
  },
  {
   "cell_type": "code",
   "execution_count": 9,
   "metadata": {},
   "outputs": [
    {
     "data": {
      "text/plain": [
       "array([0, 1, 2, 3, 4, 5, 6, 7, 8, 9])"
      ]
     },
     "execution_count": 9,
     "metadata": {},
     "output_type": "execute_result"
    }
   ],
   "source": [
    "d1"
   ]
  },
  {
   "cell_type": "code",
   "execution_count": 10,
   "metadata": {},
   "outputs": [
    {
     "data": {
      "text/plain": [
       "array([0, 1, 2, 3, 4, 5, 6, 7, 8, 9])"
      ]
     },
     "execution_count": 10,
     "metadata": {},
     "output_type": "execute_result"
    }
   ],
   "source": [
    "d2"
   ]
  },
  {
   "cell_type": "code",
   "execution_count": 49,
   "metadata": {},
   "outputs": [
    {
     "data": {
      "text/plain": [
       "KstestResult(statistic=0.0, pvalue=1.0, statistic_location=0, statistic_sign=1)"
      ]
     },
     "execution_count": 49,
     "metadata": {},
     "output_type": "execute_result"
    }
   ],
   "source": [
    "test = ks_2samp(d1,d2)\n",
    "test"
   ]
  },
  {
   "cell_type": "code",
   "execution_count": 50,
   "metadata": {},
   "outputs": [],
   "source": [
    "d1 = np.arange(10)\n",
    "d2 = np.arange(100)"
   ]
  },
  {
   "cell_type": "code",
   "execution_count": 51,
   "metadata": {},
   "outputs": [
    {
     "data": {
      "text/plain": [
       "KstestResult(statistic=0.9, pvalue=7.88295587183084e-09, statistic_location=9, statistic_sign=1)"
      ]
     },
     "execution_count": 51,
     "metadata": {},
     "output_type": "execute_result"
    }
   ],
   "source": [
    "test = ks_2samp(d1,d2)\n",
    "test"
   ]
  },
  {
   "cell_type": "code",
   "execution_count": null,
   "metadata": {},
   "outputs": [],
   "source": []
  },
  {
   "cell_type": "code",
   "execution_count": 14,
   "metadata": {},
   "outputs": [
    {
     "data": {
      "text/plain": [
       "1"
      ]
     },
     "execution_count": 14,
     "metadata": {},
     "output_type": "execute_result"
    }
   ],
   "source": [
    "round(test.pvalue)"
   ]
  },
  {
   "cell_type": "code",
   "execution_count": 18,
   "metadata": {},
   "outputs": [],
   "source": [
    "traing_file_path = \"/Users/myhome/Downloads/mysensor/artifact/04_16_2024_07_19_48/data_ingestion/ingested/train.csv\""
   ]
  },
  {
   "cell_type": "code",
   "execution_count": 19,
   "metadata": {},
   "outputs": [],
   "source": [
    "test_file_path =\"/Users/myhome/Downloads/mysensor/artifact/04_16_2024_07_19_48/data_ingestion/ingested/test.csv\""
   ]
  },
  {
   "cell_type": "code",
   "execution_count": 20,
   "metadata": {},
   "outputs": [],
   "source": [
    "import pandas as pd"
   ]
  },
  {
   "cell_type": "code",
   "execution_count": 21,
   "metadata": {},
   "outputs": [],
   "source": [
    "train_df = pd.read_csv(traing_file_path)\n",
    "test_df = pd.read_csv(test_file_path)"
   ]
  },
  {
   "cell_type": "code",
   "execution_count": 22,
   "metadata": {},
   "outputs": [
    {
     "data": {
      "text/plain": [
       "Index(['class', 'aa_000', 'ab_000', 'ac_000', 'ad_000', 'ae_000', 'af_000',\n",
       "       'ag_000', 'ag_001', 'ag_002',\n",
       "       ...\n",
       "       'ee_002', 'ee_003', 'ee_004', 'ee_005', 'ee_006', 'ee_007', 'ee_008',\n",
       "       'ee_009', 'ef_000', 'eg_000'],\n",
       "      dtype='object', length=171)"
      ]
     },
     "execution_count": 22,
     "metadata": {},
     "output_type": "execute_result"
    }
   ],
   "source": [
    "train_df.columns"
   ]
  },
  {
   "cell_type": "code",
   "execution_count": 23,
   "metadata": {},
   "outputs": [
    {
     "data": {
      "text/plain": [
       "Index(['class', 'aa_000', 'ab_000', 'ac_000', 'ad_000', 'ae_000', 'af_000',\n",
       "       'ag_000', 'ag_001', 'ag_002',\n",
       "       ...\n",
       "       'ee_002', 'ee_003', 'ee_004', 'ee_005', 'ee_006', 'ee_007', 'ee_008',\n",
       "       'ee_009', 'ef_000', 'eg_000'],\n",
       "      dtype='object', length=171)"
      ]
     },
     "execution_count": 23,
     "metadata": {},
     "output_type": "execute_result"
    }
   ],
   "source": [
    "test_df.columns"
   ]
  },
  {
   "cell_type": "code",
   "execution_count": 24,
   "metadata": {},
   "outputs": [
    {
     "data": {
      "text/plain": [
       "KstestResult(statistic=0.0003473129964145505, pvalue=1.0, statistic_location='neg', statistic_sign=-1)"
      ]
     },
     "execution_count": 24,
     "metadata": {},
     "output_type": "execute_result"
    }
   ],
   "source": [
    "d1 = train_df['class']\n",
    "d2  = test_df['class']\n",
    "ks_2samp(d1,d2)"
   ]
  },
  {
   "cell_type": "code",
   "execution_count": 28,
   "metadata": {},
   "outputs": [
    {
     "name": "stdout",
     "output_type": "stream",
     "text": [
      "Reading .env file\n"
     ]
    }
   ],
   "source": [
    "from sensor.utils.main_utils import write_yaml_file"
   ]
  },
  {
   "cell_type": "code",
   "execution_count": 25,
   "metadata": {},
   "outputs": [],
   "source": [
    "def get_drift_report(base_df,current_df,threshold=0.05):\n",
    "    report ={}\n",
    "    for column in base_df.columns:\n",
    "        d1 = base_df[column]\n",
    "        d2  = current_df[column]\n",
    "        is_same_dist = ks_2samp(d1,d2)\n",
    "        if threshold<=is_same_dist.pvalue:\n",
    "            is_found=False\n",
    "        else:\n",
    "            is_found = True \n",
    "        report.update({column:{\n",
    "            \"p_value\":float(is_same_dist.pvalue),\n",
    "            \"drift_status\":is_found\n",
    "            \n",
    "            }})\n",
    "    return report\n"
   ]
  },
  {
   "cell_type": "code",
   "execution_count": null,
   "metadata": {},
   "outputs": [],
   "source": []
  },
  {
   "cell_type": "code",
   "execution_count": null,
   "metadata": {},
   "outputs": [],
   "source": []
  },
  {
   "cell_type": "code",
   "execution_count": 27,
   "metadata": {},
   "outputs": [
    {
     "data": {
      "text/plain": [
       "{'class': {'p_value': 1.0, 'drift_status': False},\n",
       " 'aa_000': {'p_value': 0.9770767521962898, 'drift_status': False},\n",
       " 'ab_000': {'p_value': 0.9995278120687102, 'drift_status': False},\n",
       " 'ac_000': {'p_value': 0.812701391110423, 'drift_status': False},\n",
       " 'ad_000': {'p_value': 0.9576217949973966, 'drift_status': False},\n",
       " 'ae_000': {'p_value': 0.9999795998303717, 'drift_status': False},\n",
       " 'af_000': {'p_value': 0.9999995886971963, 'drift_status': False},\n",
       " 'ag_000': {'p_value': 1.0, 'drift_status': False},\n",
       " 'ag_001': {'p_value': 1.0, 'drift_status': False},\n",
       " 'ag_002': {'p_value': 0.9761982399921855, 'drift_status': False},\n",
       " 'ag_003': {'p_value': 0.8950778770339063, 'drift_status': False},\n",
       " 'ag_004': {'p_value': 0.44275176013554196, 'drift_status': False},\n",
       " 'ag_005': {'p_value': 0.9602887358203891, 'drift_status': False},\n",
       " 'ag_006': {'p_value': 0.7724383255866087, 'drift_status': False},\n",
       " 'ag_007': {'p_value': 0.8815246868573805, 'drift_status': False},\n",
       " 'ag_008': {'p_value': 0.9960565936277189, 'drift_status': False},\n",
       " 'ag_009': {'p_value': 0.991034188917134, 'drift_status': False},\n",
       " 'ah_000': {'p_value': 0.6380129007881301, 'drift_status': False},\n",
       " 'ai_000': {'p_value': 0.8028537563833428, 'drift_status': False},\n",
       " 'aj_000': {'p_value': 0.9520431802234693, 'drift_status': False},\n",
       " 'ak_000': {'p_value': 0.9999999778615263, 'drift_status': False},\n",
       " 'al_000': {'p_value': 0.7677860791973917, 'drift_status': False},\n",
       " 'am_0': {'p_value': 0.7843204262259944, 'drift_status': False},\n",
       " 'an_000': {'p_value': 0.8588640734637709, 'drift_status': False},\n",
       " 'ao_000': {'p_value': 0.7731310933588618, 'drift_status': False},\n",
       " 'ap_000': {'p_value': 0.9281276149995797, 'drift_status': False},\n",
       " 'aq_000': {'p_value': 0.9724461941649186, 'drift_status': False},\n",
       " 'ar_000': {'p_value': 0.9999999999718465, 'drift_status': False},\n",
       " 'as_000': {'p_value': 1.0, 'drift_status': False},\n",
       " 'at_000': {'p_value': 0.9964492462834356, 'drift_status': False},\n",
       " 'au_000': {'p_value': 1.0, 'drift_status': False},\n",
       " 'av_000': {'p_value': 0.6854710182610131, 'drift_status': False},\n",
       " 'ax_000': {'p_value': 0.7154590918837025, 'drift_status': False},\n",
       " 'ay_000': {'p_value': 1.0, 'drift_status': False},\n",
       " 'ay_001': {'p_value': 1.0, 'drift_status': False},\n",
       " 'ay_002': {'p_value': 1.0, 'drift_status': False},\n",
       " 'ay_003': {'p_value': 1.0, 'drift_status': False},\n",
       " 'ay_004': {'p_value': 0.9999623619123758, 'drift_status': False},\n",
       " 'ay_005': {'p_value': 0.5933973751869864, 'drift_status': False},\n",
       " 'ay_006': {'p_value': 0.8129614482310086, 'drift_status': False},\n",
       " 'ay_007': {'p_value': 0.9955835891826622, 'drift_status': False},\n",
       " 'ay_008': {'p_value': 0.9182274662693068, 'drift_status': False},\n",
       " 'ay_009': {'p_value': 1.0, 'drift_status': False},\n",
       " 'az_000': {'p_value': 0.4712072987818189, 'drift_status': False},\n",
       " 'az_001': {'p_value': 0.9816808378409932, 'drift_status': False},\n",
       " 'az_002': {'p_value': 0.9814283591635786, 'drift_status': False},\n",
       " 'az_003': {'p_value': 0.46937578485935005, 'drift_status': False},\n",
       " 'az_004': {'p_value': 0.37159419101347013, 'drift_status': False},\n",
       " 'az_005': {'p_value': 0.9929918955343153, 'drift_status': False},\n",
       " 'az_006': {'p_value': 0.14820569916617876, 'drift_status': False},\n",
       " 'az_007': {'p_value': 0.999991040411935, 'drift_status': False},\n",
       " 'az_008': {'p_value': 1.0, 'drift_status': False},\n",
       " 'az_009': {'p_value': 0.9999999255189703, 'drift_status': False},\n",
       " 'ba_000': {'p_value': 0.7585111694795117, 'drift_status': False},\n",
       " 'ba_001': {'p_value': 0.9944512919562415, 'drift_status': False},\n",
       " 'ba_002': {'p_value': 0.6590797864525753, 'drift_status': False},\n",
       " 'ba_003': {'p_value': 0.5412282147444142, 'drift_status': False},\n",
       " 'ba_004': {'p_value': 0.8011528166504629, 'drift_status': False},\n",
       " 'ba_005': {'p_value': 0.7207225212749168, 'drift_status': False},\n",
       " 'ba_006': {'p_value': 0.8420442571023803, 'drift_status': False},\n",
       " 'ba_007': {'p_value': 0.944067685651145, 'drift_status': False},\n",
       " 'ba_008': {'p_value': 0.8540518500941363, 'drift_status': False},\n",
       " 'ba_009': {'p_value': 0.9466633736506754, 'drift_status': False},\n",
       " 'bb_000': {'p_value': 0.8935961951011786, 'drift_status': False},\n",
       " 'bc_000': {'p_value': 0.4612846182744159, 'drift_status': False},\n",
       " 'bd_000': {'p_value': 0.874117757532623, 'drift_status': False},\n",
       " 'be_000': {'p_value': 0.9461112892093624, 'drift_status': False},\n",
       " 'bf_000': {'p_value': 0.8618409063175073, 'drift_status': False},\n",
       " 'bg_000': {'p_value': 0.655745303353517, 'drift_status': False},\n",
       " 'bh_000': {'p_value': 0.6293300565131439, 'drift_status': False},\n",
       " 'bi_000': {'p_value': 0.5807212117049199, 'drift_status': False},\n",
       " 'bj_000': {'p_value': 0.8529625011920392, 'drift_status': False},\n",
       " 'bk_000': {'p_value': 0.9991961895704892, 'drift_status': False},\n",
       " 'bl_000': {'p_value': 0.9122446920275644, 'drift_status': False},\n",
       " 'bm_000': {'p_value': 0.9740385716135513, 'drift_status': False},\n",
       " 'bn_000': {'p_value': 0.9989023731241664, 'drift_status': False},\n",
       " 'bo_000': {'p_value': 0.9999999904265965, 'drift_status': False},\n",
       " 'bp_000': {'p_value': 0.9999780170496306, 'drift_status': False},\n",
       " 'bq_000': {'p_value': 0.999999999998213, 'drift_status': False},\n",
       " 'br_000': {'p_value': 0.9999731467348273, 'drift_status': False},\n",
       " 'bs_000': {'p_value': 0.8094750601809031, 'drift_status': False},\n",
       " 'bt_000': {'p_value': 0.9876597420402474, 'drift_status': False},\n",
       " 'bu_000': {'p_value': 0.9056911865792409, 'drift_status': False},\n",
       " 'bv_000': {'p_value': 0.9056911865792409, 'drift_status': False},\n",
       " 'bx_000': {'p_value': 0.9503327895728234, 'drift_status': False},\n",
       " 'by_000': {'p_value': 0.48190095567139, 'drift_status': False},\n",
       " 'bz_000': {'p_value': 0.8743688855831693, 'drift_status': False},\n",
       " 'ca_000': {'p_value': 0.791853507323821, 'drift_status': False},\n",
       " 'cb_000': {'p_value': 0.5481945278274171, 'drift_status': False},\n",
       " 'cc_000': {'p_value': 0.9150916492888898, 'drift_status': False},\n",
       " 'cd_000': {'p_value': 1.0, 'drift_status': False},\n",
       " 'ce_000': {'p_value': 0.46531076753111866, 'drift_status': False},\n",
       " 'cf_000': {'p_value': 0.997468520247393, 'drift_status': False},\n",
       " 'cg_000': {'p_value': 0.6467663472659404, 'drift_status': False},\n",
       " 'ch_000': {'p_value': 1.0, 'drift_status': False},\n",
       " 'ci_000': {'p_value': 0.8675514333470169, 'drift_status': False},\n",
       " 'cj_000': {'p_value': 0.9403516862412818, 'drift_status': False},\n",
       " 'ck_000': {'p_value': 0.6753311521555587, 'drift_status': False},\n",
       " 'cl_000': {'p_value': 0.9999999965970742, 'drift_status': False},\n",
       " 'cm_000': {'p_value': 0.9992778809287665, 'drift_status': False},\n",
       " 'cn_000': {'p_value': 0.9999996814062124, 'drift_status': False},\n",
       " 'cn_001': {'p_value': 0.7853120694025282, 'drift_status': False},\n",
       " 'cn_002': {'p_value': 0.9762067321885046, 'drift_status': False},\n",
       " 'cn_003': {'p_value': 0.8512618421067291, 'drift_status': False},\n",
       " 'cn_004': {'p_value': 0.7802314989303313, 'drift_status': False},\n",
       " 'cn_005': {'p_value': 0.7828094984696701, 'drift_status': False},\n",
       " 'cn_006': {'p_value': 0.892917177884597, 'drift_status': False},\n",
       " 'cn_007': {'p_value': 0.694486668586102, 'drift_status': False},\n",
       " 'cn_008': {'p_value': 0.7870208326767343, 'drift_status': False},\n",
       " 'cn_009': {'p_value': 0.9908216394041162, 'drift_status': False},\n",
       " 'co_000': {'p_value': 0.9523785948492168, 'drift_status': False},\n",
       " 'cp_000': {'p_value': 0.5347613210527167, 'drift_status': False},\n",
       " 'cq_000': {'p_value': 0.9056911865792409, 'drift_status': False},\n",
       " 'cr_000': {'p_value': 0.9999999946843171, 'drift_status': False},\n",
       " 'cs_000': {'p_value': 0.5925226229392984, 'drift_status': False},\n",
       " 'cs_001': {'p_value': 0.992813146845205, 'drift_status': False},\n",
       " 'cs_002': {'p_value': 0.4153668033488044, 'drift_status': False},\n",
       " 'cs_003': {'p_value': 0.7086097927487046, 'drift_status': False},\n",
       " 'cs_004': {'p_value': 0.33087294737384276, 'drift_status': False},\n",
       " 'cs_005': {'p_value': 0.8737518258215006, 'drift_status': False},\n",
       " 'cs_006': {'p_value': 0.9584349514756272, 'drift_status': False},\n",
       " 'cs_007': {'p_value': 0.9996479928862456, 'drift_status': False},\n",
       " 'cs_008': {'p_value': 0.9885110834862101, 'drift_status': False},\n",
       " 'cs_009': {'p_value': 0.999999996083934, 'drift_status': False},\n",
       " 'ct_000': {'p_value': 0.5771520035352851, 'drift_status': False},\n",
       " 'cu_000': {'p_value': 0.9916757535114242, 'drift_status': False},\n",
       " 'cv_000': {'p_value': 0.937074211188369, 'drift_status': False},\n",
       " 'cx_000': {'p_value': 0.6320226397606036, 'drift_status': False},\n",
       " 'cy_000': {'p_value': 0.9980845826238608, 'drift_status': False},\n",
       " 'cz_000': {'p_value': 0.856772927422008, 'drift_status': False},\n",
       " 'da_000': {'p_value': 0.9999812744104756, 'drift_status': False},\n",
       " 'db_000': {'p_value': 0.8143228623604091, 'drift_status': False},\n",
       " 'dc_000': {'p_value': 0.9718386283281624, 'drift_status': False},\n",
       " 'dd_000': {'p_value': 0.9552720155343046, 'drift_status': False},\n",
       " 'de_000': {'p_value': 0.2517816367372361, 'drift_status': False},\n",
       " 'df_000': {'p_value': 1.0, 'drift_status': False},\n",
       " 'dg_000': {'p_value': 1.0, 'drift_status': False},\n",
       " 'dh_000': {'p_value': 0.9999999613252291, 'drift_status': False},\n",
       " 'di_000': {'p_value': 0.9991154752701479, 'drift_status': False},\n",
       " 'dj_000': {'p_value': 1.0, 'drift_status': False},\n",
       " 'dk_000': {'p_value': 1.0, 'drift_status': False},\n",
       " 'dl_000': {'p_value': 1.0, 'drift_status': False},\n",
       " 'dm_000': {'p_value': 1.0, 'drift_status': False},\n",
       " 'dn_000': {'p_value': 0.6650868464680202, 'drift_status': False},\n",
       " 'do_000': {'p_value': 0.8014722994020269, 'drift_status': False},\n",
       " 'dp_000': {'p_value': 0.6912464978714524, 'drift_status': False},\n",
       " 'dq_000': {'p_value': 0.9379818261260159, 'drift_status': False},\n",
       " 'dr_000': {'p_value': 0.9569475065492085, 'drift_status': False},\n",
       " 'ds_000': {'p_value': 0.9999802552560494, 'drift_status': False},\n",
       " 'dt_000': {'p_value': 0.9594562893180797, 'drift_status': False},\n",
       " 'du_000': {'p_value': 0.6242684073999986, 'drift_status': False},\n",
       " 'dv_000': {'p_value': 0.9009218926676206, 'drift_status': False},\n",
       " 'dx_000': {'p_value': 0.9976631431734954, 'drift_status': False},\n",
       " 'dy_000': {'p_value': 0.8315237780718872, 'drift_status': False},\n",
       " 'dz_000': {'p_value': 0.9999999999999984, 'drift_status': False},\n",
       " 'ea_000': {'p_value': 0.9999999999037196, 'drift_status': False},\n",
       " 'eb_000': {'p_value': 0.9158512809066137, 'drift_status': False},\n",
       " 'ec_00': {'p_value': 0.9056085089642962, 'drift_status': False},\n",
       " 'ed_000': {'p_value': 0.9084675056957056, 'drift_status': False},\n",
       " 'ee_000': {'p_value': 0.7025736341871662, 'drift_status': False},\n",
       " 'ee_001': {'p_value': 0.9545884182914276, 'drift_status': False},\n",
       " 'ee_002': {'p_value': 0.9762428012836082, 'drift_status': False},\n",
       " 'ee_003': {'p_value': 0.9982270073737604, 'drift_status': False},\n",
       " 'ee_004': {'p_value': 0.8562619363695324, 'drift_status': False},\n",
       " 'ee_005': {'p_value': 0.9599421616798599, 'drift_status': False},\n",
       " 'ee_006': {'p_value': 0.4861086112522468, 'drift_status': False},\n",
       " 'ee_007': {'p_value': 0.37160194229946497, 'drift_status': False},\n",
       " 'ee_008': {'p_value': 0.9784596974270957, 'drift_status': False},\n",
       " 'ee_009': {'p_value': 0.7761205984245828, 'drift_status': False},\n",
       " 'ef_000': {'p_value': 1.0, 'drift_status': False},\n",
       " 'eg_000': {'p_value': 1.0, 'drift_status': False}}"
      ]
     },
     "execution_count": 27,
     "metadata": {},
     "output_type": "execute_result"
    }
   ],
   "source": [
    "drift_report = get_drift_report(train_df,test_df)\n",
    "drift_report"
   ]
  },
  {
   "cell_type": "code",
   "execution_count": 29,
   "metadata": {},
   "outputs": [],
   "source": [
    "import os\n",
    "write_yaml_file(file_path=os.path.join(os.getcwd(),\"report.yaml\"),content=drift_report,replace=True)"
   ]
  },
  {
   "cell_type": "code",
   "execution_count": null,
   "metadata": {},
   "outputs": [],
   "source": []
  },
  {
   "cell_type": "code",
   "execution_count": 2,
   "metadata": {},
   "outputs": [],
   "source": [
    "from sensor.ml.model.estimator import TargetValueMapping"
   ]
  },
  {
   "cell_type": "code",
   "execution_count": 4,
   "metadata": {},
   "outputs": [
    {
     "data": {
      "text/plain": [
       "{'neg': 0, 'pos': 1}"
      ]
     },
     "execution_count": 4,
     "metadata": {},
     "output_type": "execute_result"
    }
   ],
   "source": [
    "TargetValueMapping().to_dict()"
   ]
  },
  {
   "cell_type": "code",
   "execution_count": 5,
   "metadata": {},
   "outputs": [
    {
     "data": {
      "text/plain": [
       "{0: 'neg', 1: 'pos'}"
      ]
     },
     "execution_count": 5,
     "metadata": {},
     "output_type": "execute_result"
    }
   ],
   "source": [
    "TargetValueMapping().reverse_mapping()"
   ]
  },
  {
   "cell_type": "code",
   "execution_count": null,
   "metadata": {},
   "outputs": [],
   "source": []
  },
  {
   "cell_type": "code",
   "execution_count": 2,
   "metadata": {},
   "outputs": [
    {
     "ename": "SyntaxError",
     "evalue": "invalid syntax (2779155913.py, line 33)",
     "output_type": "error",
     "traceback": [
      "\u001b[0;36m  Cell \u001b[0;32mIn[2], line 33\u001b[0;36m\u001b[0m\n\u001b[0;31m    d.get keys()\u001b[0m\n\u001b[0m          ^\u001b[0m\n\u001b[0;31mSyntaxError\u001b[0m\u001b[0;31m:\u001b[0m invalid syntax\n"
     ]
    }
   ],
   "source": [
    "\n",
    "\n",
    "#This is a dictionary parsing code written by Amit Jadhav \n",
    "#Because of an Indentation Error you will experience Attribute Error\n",
    " \n",
    "class dict_parsing:\n",
    "     \n",
    "    def __init__(self,a):\n",
    "        self.a = a\n",
    "         \n",
    "    def getkeys(self):\n",
    "        if self.notdict():\n",
    "            return list(self.a.keys())\n",
    "            \n",
    "    def getvalues(self):\n",
    "        if self.notdict():\n",
    "            return list(self.a.values())\n",
    "            \n",
    "    def notdict(self):\n",
    "        if type(self.a) != dict:\n",
    "            raise Exception(self,a,'not a dictionary')\n",
    "        return 1\n",
    "        \n",
    "    def userinput(self):\n",
    "        self.a = eval(input())\n",
    "        print(self.a,type(self.a))\n",
    "        print(self.getykeys())\n",
    "        print(self.getvalyes())\n",
    "        \n",
    "    def insertion(self,k,v):\n",
    "        self.a[k]=v\n",
    "   \n",
    "d = dict_parsing({\"k1\":\"amit\", \"k2\":[1,2,3,4,5]})\n",
    " \n",
    "d.getkeys()\n"
   ]
  },
  {
   "cell_type": "code",
   "execution_count": 3,
   "metadata": {},
   "outputs": [],
   "source": [
    "import numpy as np\n",
    "\n",
    "# Training data array: 5 samples with 3 features and 1 label\n",
    "train_arr = np.array([\n",
    "    [1, 2, 3, 0],\n",
    "    [4, 5, 6, 1],\n",
    "    [7, 8, 9, 0],\n",
    "    [10, 11, 12, 1],\n",
    "    [13, 14, 15, 0]\n",
    "])\n",
    "\n",
    "\n"
   ]
  },
  {
   "cell_type": "code",
   "execution_count": 5,
   "metadata": {},
   "outputs": [
    {
     "data": {
      "text/plain": [
       "array([[ 1,  2,  3],\n",
       "       [ 4,  5,  6],\n",
       "       [ 7,  8,  9],\n",
       "       [10, 11, 12],\n",
       "       [13, 14, 15]])"
      ]
     },
     "execution_count": 5,
     "metadata": {},
     "output_type": "execute_result"
    }
   ],
   "source": [
    "x_train = train_arr[:, :-1]\n",
    "# Output: array([[ 1,  2,  3],\n",
    "#                [ 4,  5,  6],\n",
    "#                [ 7,  8,  9],\n",
    "#                [10, 11, 12],\n",
    "#                [13, 14, 15]])\n",
    "x_train"
   ]
  },
  {
   "cell_type": "code",
   "execution_count": 7,
   "metadata": {},
   "outputs": [
    {
     "data": {
      "text/plain": [
       "array([0, 1, 0, 1, 0])"
      ]
     },
     "execution_count": 7,
     "metadata": {},
     "output_type": "execute_result"
    }
   ],
   "source": [
    "y_train = train_arr[:, -1]\n",
    "# Output: array([0, 1, 0, 1, 0])\n",
    "y_train"
   ]
  },
  {
   "cell_type": "code",
   "execution_count": null,
   "metadata": {},
   "outputs": [],
   "source": []
  },
  {
   "cell_type": "code",
   "execution_count": null,
   "metadata": {},
   "outputs": [],
   "source": []
  },
  {
   "cell_type": "code",
   "execution_count": null,
   "metadata": {},
   "outputs": [],
   "source": []
  },
  {
   "cell_type": "code",
   "execution_count": null,
   "metadata": {},
   "outputs": [],
   "source": []
  },
  {
   "cell_type": "code",
   "execution_count": null,
   "metadata": {},
   "outputs": [],
   "source": []
  },
  {
   "cell_type": "code",
   "execution_count": null,
   "metadata": {},
   "outputs": [],
   "source": []
  },
  {
   "cell_type": "code",
   "execution_count": null,
   "metadata": {},
   "outputs": [],
   "source": []
  }
 ],
 "metadata": {
  "kernelspec": {
   "display_name": "base",
   "language": "python",
   "name": "python3"
  },
  "language_info": {
   "codemirror_mode": {
    "name": "ipython",
    "version": 3
   },
   "file_extension": ".py",
   "mimetype": "text/x-python",
   "name": "python",
   "nbconvert_exporter": "python",
   "pygments_lexer": "ipython3",
   "version": "3.8.19"
  }
 },
 "nbformat": 4,
 "nbformat_minor": 2
}
